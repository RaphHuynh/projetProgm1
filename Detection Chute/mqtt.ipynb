{
 "cells": [
  {
   "cell_type": "code",
   "execution_count": 16,
   "metadata": {},
   "outputs": [
    {
     "name": "stderr",
     "output_type": "stream",
     "text": [
      "/var/folders/_d/9q_91d650jd01_xnvs40jc7h0000gn/T/ipykernel_25001/3520215970.py:10: DeprecationWarning: Callback API version 1 is deprecated, update to latest version\n",
      "  client = mqtt.Client()\n"
     ]
    },
    {
     "data": {
      "text/plain": [
       "<MQTTErrorCode.MQTT_ERR_SUCCESS: 0>"
      ]
     },
     "execution_count": 16,
     "metadata": {},
     "output_type": "execute_result"
    }
   ],
   "source": [
    "import json\n",
    "import time\n",
    "\n",
    "import paho.mqtt.client as mqtt\n",
    "\n",
    "broker_address = \"194.57.103.203\"\n",
    "broker_port = 1883\n",
    "topic = \"vehicle\"\n",
    "\n",
    "client = mqtt.Client()\n",
    "\n",
    "client.connect(broker_address, broker_port, 60)"
   ]
  },
  {
   "cell_type": "code",
   "execution_count": 17,
   "metadata": {},
   "outputs": [
    {
     "data": {
      "text/plain": [
       "<MQTTErrorCode.MQTT_ERR_SUCCESS: 0>"
      ]
     },
     "execution_count": 17,
     "metadata": {},
     "output_type": "execute_result"
    },
    {
     "name": "stdout",
     "output_type": "stream",
     "text": [
      "Received message: [{\"measure_datetime\":\"2025-04-22T09:09:22Z\",\"accelerometer_x\":0,\"accelerometer_y\":0.01,\"accelerometer_z\":0,\"latitude\":49.2437333,\"longitude\":4.0616866,\"speed\":0.09668891131877899,\"wifi_rx\":11255983969,\"wifi_tx\":501300454,\"mobile_rx\":46330689,\"mobile_tx\":2209249}] on topic vehicle\n",
      "Received message: {\"Notification\": \"Chute detectee!\"} on topic vehicle\n"
     ]
    }
   ],
   "source": [
    "# Define the callback function for when a message is received\n",
    "def on_message(client, userdata, message):\n",
    "    print(f\"Received message: {message.payload.decode()} on topic {message.topic}\")\n",
    "\n",
    "# Set the on_message callback function\n",
    "client.on_message = on_message\n",
    "\n",
    "# Subscribe to the topic\n",
    "client.subscribe(topic)\n",
    "\n",
    "# Envoie de données :{\"Notification\": \"Chute détectée!\"}\n",
    "data = {\n",
    "    \"Notification\": \"Chute detectee!\"\n",
    "}\n",
    "# Convert the data to a JSON string\n",
    "json_data = json.dumps(data)\n",
    "# Publish the JSON data to the topic\n",
    "client.publish(topic, json_data)\n",
    "# Wait for a few seconds to ensure the message is sent\n",
    "time.sleep(2)\n",
    "\n",
    "# Start the MQTT client loop to process network traffic and dispatch callbacks\n",
    "client.loop_start()"
   ]
  },
  {
   "cell_type": "code",
   "execution_count": 18,
   "metadata": {},
   "outputs": [],
   "source": [
    "from time import sleep\n",
    "\n",
    "class ECMWF:\n",
    "    def __init__(self, name):\n",
    "        self.name = name\n",
    "        self._cache = {}\n",
    "\n",
    "\n",
    "    def cache_value(func):\n",
    "        def wrapper(self, *args, **kwargs):\n",
    "            cache_key = f\"{func.__name__}_{args}_{kwargs}\"\n",
    "            if cache_key in self._cache:\n",
    "                print(f\"Cache hit for {cache_key}\")\n",
    "                return self._cache[cache_key]\n",
    "\n",
    "            print(f\"Cache miss for {cache_key}\")\n",
    "            result = func(self, *args, **kwargs)\n",
    "            self._cache[cache_key] = result\n",
    "            return result\n",
    "        return wrapper\n",
    "\n",
    "    @cache_value\n",
    "    def get_data(self):\n",
    "        \n",
    "        data = {\n",
    "            \"temperature\": 20,\n",
    "            \"humidity\": 50,\n",
    "            \"pressure\": 1013\n",
    "        }\n",
    "\n",
    "        sleep(1)\n",
    "\n",
    "        return data"
   ]
  }
 ],
 "metadata": {
  "kernelspec": {
   "display_name": "base",
   "language": "python",
   "name": "python3"
  },
  "language_info": {
   "codemirror_mode": {
    "name": "ipython",
    "version": 3
   },
   "file_extension": ".py",
   "mimetype": "text/x-python",
   "name": "python",
   "nbconvert_exporter": "python",
   "pygments_lexer": "ipython3",
   "version": "3.12.2"
  }
 },
 "nbformat": 4,
 "nbformat_minor": 2
}
