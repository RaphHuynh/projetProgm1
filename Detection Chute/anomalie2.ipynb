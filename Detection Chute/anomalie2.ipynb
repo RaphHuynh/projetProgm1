{
 "cells": [
  {
   "cell_type": "markdown",
   "metadata": {},
   "source": [
    "# Détection d'anomalies avec Isolation Forest\n",
    "Ce notebook implémente un pipeline pour détecter des anomalies dans les données de capteurs (ACC, MAG, GYR) en utilisant le modèle Isolation Forest."
   ]
  },
  {
   "cell_type": "markdown",
   "metadata": {},
   "source": [
    "## Importation des bibliothèques\n",
    "Les bibliothèques nécessaires pour le traitement des données, la normalisation et la détection d'anomalies sont importées ici."
   ]
  },
  {
   "cell_type": "code",
   "execution_count": 1,
   "metadata": {},
   "outputs": [],
   "source": [
    "# Importation des bibliothèques nécessaires\n",
    "import os\n",
    "import pandas as pd\n",
    "import numpy as np\n",
    "import matplotlib.pyplot as plt\n",
    "from sklearn.ensemble import IsolationForest\n",
    "from sklearn.preprocessing import StandardScaler\n",
    "from ipywidgets import IntText, Button, VBox, Output\n",
    "from keras.models import Sequential  # type: ignore\n",
    "from keras.layers import Dense  # type: ignore"
   ]
  },
  {
   "cell_type": "markdown",
   "metadata": {},
   "source": [
    "## Chargement des données\n",
    "Les données sont chargées depuis un fichier CSV. Cette étape permet de vérifier le contenu des données en affichant les premières lignes."
   ]
  },
  {
   "cell_type": "code",
   "execution_count": 2,
   "metadata": {},
   "outputs": [
    {
     "name": "stdout",
     "output_type": "stream",
     "text": [
      "        Timestamp      ACCX      ACCY      ACCZ       MAGX       MAGY  \\\n",
      "0  20240229164442 -0.625008 -3.101211  0.996777  26.132399  31.414999   \n",
      "1  20240229164442 -1.010064 -5.230971 -1.619086  25.729800  31.500399   \n",
      "2  20240229164442 -1.010064 -5.230971 -1.619086  25.827400  31.329600   \n",
      "3  20240229164442  1.424181 -4.071563 -3.974339  26.620400  30.951399   \n",
      "4  20240229164442  1.424181 -4.071563 -3.974339  25.912800  30.756199   \n",
      "\n",
      "      MAGZ      GYRX      GYRY      GYRZ  \n",
      "0  12.2366 -0.576046 -1.105055  0.410196  \n",
      "1  12.4684 -0.545808 -1.292591  0.415236  \n",
      "2  12.2244 -0.339030 -0.747088  0.209832  \n",
      "3  12.9930 -0.326355 -0.158520  0.069791  \n",
      "4  12.6270 -0.396299  0.331394  0.001527  \n"
     ]
    }
   ],
   "source": [
    "# Chargement des données depuis tous les fichiers dans le dossier Bike\n",
    "folder_path = \"/Users/rdb_samy/Cours/Projet Android/Dataset/Bike\"\n",
    "\n",
    "all_files = [\n",
    "    os.path.join(folder_path, f)\n",
    "    for f in os.listdir(folder_path)\n",
    "    if f.endswith(\".csv\")  # and f.startswith(\"TMenED\")\n",
    "]\n",
    "\n",
    "# Concaténation des données de tous les fichiers\n",
    "data_list = []\n",
    "for file_path in all_files:\n",
    "    data = pd.read_csv(file_path)\n",
    "    data_list.append(data)\n",
    "combined_data = pd.concat(data_list, ignore_index=True)\n",
    "\n",
    "# Affichage des premières lignes pour vérifier le contenu\n",
    "print(combined_data.head())"
   ]
  },
  {
   "cell_type": "markdown",
   "metadata": {},
   "source": [
    "## Prétraitement des données\n",
    "Les données des capteurs sont normalisées pour garantir que toutes les colonnes ont une échelle comparable. Une colonne `Timestamp` est également ajoutée pour conserver la référence temporelle."
   ]
  },
  {
   "cell_type": "code",
   "execution_count": 3,
   "metadata": {},
   "outputs": [
    {
     "name": "stdout",
     "output_type": "stream",
     "text": [
      "       ACCX      ACCY      ACCZ      MAGX      MAGY      MAGZ      GYRX  \\\n",
      "0 -0.331061 -1.300665  0.411677  0.145296  0.197685  0.081102 -0.680418   \n",
      "1 -0.520787 -2.251524 -0.756717  0.142765  0.198866  0.083351 -0.645121   \n",
      "2 -0.520787 -2.251524 -0.756717  0.143379  0.196504  0.080984 -0.403745   \n",
      "3  0.678622 -1.733891 -1.808707  0.148364  0.191275  0.088440 -0.388949   \n",
      "4  0.678622 -1.733891 -1.808707  0.143916  0.188576  0.084889 -0.470596   \n",
      "\n",
      "       GYRY      GYRZ       Timestamp  \n",
      "0 -1.208890  0.652648  20240229164442  \n",
      "1 -1.415805  0.660716  20240229164442  \n",
      "2 -0.813933  0.331900  20240229164442  \n",
      "3 -0.164545  0.107718  20240229164442  \n",
      "4  0.375994 -0.001561  20240229164442  \n"
     ]
    }
   ],
   "source": [
    "# Prétraitement des données\n",
    "# Normalisation des colonnes ACC, MAG et GYR\n",
    "features = [\"ACCX\", \"ACCY\", \"ACCZ\", \"MAGX\", \"MAGY\", \"MAGZ\", \"GYRX\", \"GYRY\", \"GYRZ\"]\n",
    "scaler = StandardScaler()\n",
    "data_scaled = scaler.fit_transform(combined_data[features])\n",
    "\n",
    "# Conversion en DataFrame pour faciliter l'utilisation\n",
    "data_scaled = pd.DataFrame(data_scaled, columns=features)\n",
    "\n",
    "# Ajout de la colonne Timestamp pour référence temporelle\n",
    "data_scaled[\"Timestamp\"] = combined_data[\"Timestamp\"]\n",
    "print(data_scaled.head())"
   ]
  },
  {
   "cell_type": "markdown",
   "metadata": {},
   "source": [
    "## Entraînement du modèle Isolation Forest\n",
    "Le modèle Isolation Forest est entraîné pour détecter les anomalies dans les données normalisées. Les anomalies sont marquées par la valeur `-1`."
   ]
  },
  {
   "cell_type": "code",
   "execution_count": 4,
   "metadata": {},
   "outputs": [
    {
     "name": "stdout",
     "output_type": "stream",
     "text": [
      "Nombre de séquences générées : 803838\n"
     ]
    }
   ],
   "source": [
    "# Préparation des séquences temporelles\n",
    "sequence_length = 20  # Longueur des séquences\n",
    "\n",
    "\n",
    "def create_sequences(data, sequence_length):\n",
    "    sequences = []\n",
    "    for i in range(len(data) - sequence_length + 1):\n",
    "        seq = data[i : i + sequence_length]\n",
    "        sequences.append(seq)\n",
    "    return np.array(sequences)\n",
    "\n",
    "\n",
    "sequences = create_sequences(data_scaled[features].values, sequence_length)\n",
    "print(f\"Nombre de séquences générées : {len(sequences)}\")"
   ]
  },
  {
   "cell_type": "code",
   "execution_count": 5,
   "metadata": {},
   "outputs": [
    {
     "name": "stderr",
     "output_type": "stream",
     "text": [
      "/Users/rdb_samy/miniconda3/lib/python3.12/site-packages/keras/src/layers/core/dense.py:87: UserWarning: Do not pass an `input_shape`/`input_dim` argument to a layer. When using Sequential models, prefer using an `Input(shape)` object as the first layer in the model instead.\n",
      "  super().__init__(activity_regularizer=activity_regularizer, **kwargs)\n"
     ]
    },
    {
     "name": "stdout",
     "output_type": "stream",
     "text": [
      "Epoch 1/10\n",
      "\u001b[1m17584/17584\u001b[0m \u001b[32m━━━━━━━━━━━━━━━━━━━━\u001b[0m\u001b[37m\u001b[0m \u001b[1m29s\u001b[0m 2ms/step - loss: 0.0336 - val_loss: 2.9782e-04\n",
      "Epoch 2/10\n",
      "\u001b[1m17584/17584\u001b[0m \u001b[32m━━━━━━━━━━━━━━━━━━━━\u001b[0m\u001b[37m\u001b[0m \u001b[1m29s\u001b[0m 2ms/step - loss: 0.0013 - val_loss: 1.7459e-04\n",
      "Epoch 3/10\n",
      "\u001b[1m17584/17584\u001b[0m \u001b[32m━━━━━━━━━━━━━━━━━━━━\u001b[0m\u001b[37m\u001b[0m \u001b[1m28s\u001b[0m 2ms/step - loss: 0.0013 - val_loss: 0.0088\n",
      "Epoch 4/10\n",
      "\u001b[1m17584/17584\u001b[0m \u001b[32m━━━━━━━━━━━━━━━━━━━━\u001b[0m\u001b[37m\u001b[0m \u001b[1m29s\u001b[0m 2ms/step - loss: 0.0013 - val_loss: 2.4633e-04\n",
      "Epoch 5/10\n",
      "\u001b[1m17584/17584\u001b[0m \u001b[32m━━━━━━━━━━━━━━━━━━━━\u001b[0m\u001b[37m\u001b[0m \u001b[1m28s\u001b[0m 2ms/step - loss: 8.2199e-04 - val_loss: 6.1345e-04\n",
      "Epoch 6/10\n",
      "\u001b[1m17584/17584\u001b[0m \u001b[32m━━━━━━━━━━━━━━━━━━━━\u001b[0m\u001b[37m\u001b[0m \u001b[1m29s\u001b[0m 2ms/step - loss: 9.4284e-04 - val_loss: 4.5770e-04\n",
      "Epoch 7/10\n",
      "\u001b[1m17584/17584\u001b[0m \u001b[32m━━━━━━━━━━━━━━━━━━━━\u001b[0m\u001b[37m\u001b[0m \u001b[1m28s\u001b[0m 2ms/step - loss: 8.7596e-04 - val_loss: 4.4468e-04\n",
      "Epoch 8/10\n",
      "\u001b[1m17584/17584\u001b[0m \u001b[32m━━━━━━━━━━━━━━━━━━━━\u001b[0m\u001b[37m\u001b[0m \u001b[1m27s\u001b[0m 2ms/step - loss: 6.9313e-04 - val_loss: 1.9949e-04\n",
      "Epoch 9/10\n",
      "\u001b[1m17584/17584\u001b[0m \u001b[32m━━━━━━━━━━━━━━━━━━━━\u001b[0m\u001b[37m\u001b[0m \u001b[1m27s\u001b[0m 2ms/step - loss: 7.5194e-04 - val_loss: 1.6928e-04\n",
      "Epoch 10/10\n",
      "\u001b[1m17584/17584\u001b[0m \u001b[32m━━━━━━━━━━━━━━━━━━━━\u001b[0m\u001b[37m\u001b[0m \u001b[1m28s\u001b[0m 2ms/step - loss: 7.1462e-04 - val_loss: 2.9829e-04\n"
     ]
    },
    {
     "data": {
      "text/plain": [
       "<keras.src.callbacks.history.History at 0x3100da8a0>"
      ]
     },
     "execution_count": 5,
     "metadata": {},
     "output_type": "execute_result"
    }
   ],
   "source": [
    "# Construction et entraînement de l'autoencoder\n",
    "input_dim = sequences.shape[2]\n",
    "model = Sequential(\n",
    "    [\n",
    "        Dense(64, activation=\"relu\", input_shape=(sequence_length, input_dim)),\n",
    "        Dense(32, activation=\"relu\"),\n",
    "        Dense(64, activation=\"relu\"),\n",
    "        Dense(input_dim, activation=\"linear\"),\n",
    "    ]\n",
    ")\n",
    "model.compile(optimizer=\"adam\", loss=\"mse\")\n",
    "\n",
    "# Entraînement\n",
    "model.fit(\n",
    "    sequences, sequences, epochs=10, batch_size=32, validation_split=0.3, verbose=1\n",
    ")"
   ]
  },
  {
   "cell_type": "code",
   "execution_count": 9,
   "metadata": {},
   "outputs": [
    {
     "name": "stdout",
     "output_type": "stream",
     "text": [
      "\u001b[1m25120/25120\u001b[0m \u001b[32m━━━━━━━━━━━━━━━━━━━━\u001b[0m\u001b[37m\u001b[0m \u001b[1m13s\u001b[0m 529us/step\n"
     ]
    },
    {
     "data": {
      "image/png": "[encoded data removed]",
      "text/plain": [
       "<Figure size 1000x600 with 1 Axes>"
      ]
     },
     "metadata": {},
     "output_type": "display_data"
    },
    {
     "name": "stdout",
     "output_type": "stream",
     "text": [
      "Nombre d'anomalies détectées : 40192\n"
     ]
    }
   ],
   "source": [
    "# Détection des anomalies\n",
    "reconstructed = model.predict(sequences)\n",
    "mse = np.mean(np.power(sequences - reconstructed, 2), axis=(1, 2))\n",
    "\n",
    "# Visualisation des erreurs de reconstruction\n",
    "plt.figure(figsize=(10, 6))\n",
    "plt.hist(mse, bins=50, alpha=0.7, color=\"blue\", label=\"Erreurs de reconstruction\")\n",
    "plt.axvline(\n",
    "    np.percentile(mse, 98), color=\"red\", linestyle=\"--\", label=\"Seuil (98e percentile)\"\n",
    ")\n",
    "plt.title(\"Distribution des erreurs de reconstruction\")\n",
    "plt.xlabel(\"Erreur de reconstruction\")\n",
    "plt.ylabel(\"Fréquence\")\n",
    "plt.legend()\n",
    "plt.show()\n",
    "\n",
    "# Ajustement du seuil pour réduire les anomalies\n",
    "threshold = np.percentile(mse, 95)\n",
    "anomalies = mse > threshold\n",
    "\n",
    "# Marquer les anomalies dans les données originales\n",
    "data_scaled[\"anomaly\"] = 0\n",
    "for i in range(len(anomalies)):\n",
    "    if anomalies[i]:\n",
    "        data_scaled.loc[i : i + sequence_length - 1, \"anomaly\"] = 1\n",
    "\n",
    "print(f\"Nombre d'anomalies détectées : {np.sum(anomalies)}\")"
   ]
  },
  {
   "cell_type": "code",
   "execution_count": 10,
   "metadata": {},
   "outputs": [
    {
     "data": {
      "application/vnd.jupyter.widget-view+json": {
       "model_id": "3fefacfc4ea44fc097a442cb65cd1fe3",
       "version_major": 2,
       "version_minor": 0
      },
      "text/plain": [
       "VBox(children=(Dropdown(description='Fichier:', options=('Fichier 1', 'Fichier 2', 'Fichier 3', 'Fichier 4', '…"
      ]
     },
     "metadata": {},
     "output_type": "display_data"
    }
   ],
   "source": [
    "from ipywidgets import Dropdown\n",
    "\n",
    "# Création des widgets\n",
    "file_selector = IntText(value=0, description=\"Fichier:\")\n",
    "plot_button = Button(description=\"Afficher\")\n",
    "output = Output()\n",
    "# Création du widget Dropdown pour sélectionner un fichier\n",
    "file_selector_dropdown = Dropdown(\n",
    "    options=[f\"Fichier {i + 1}\" for i in range(len(all_files))],\n",
    "    value=\"Fichier 1\",\n",
    "    description=\"Fichier:\",\n",
    ")\n",
    "\n",
    "\n",
    "# Fonction pour afficher les données pour un fichier sélectionné\n",
    "def afficher_donnees_par_fichier(change):\n",
    "    with output:\n",
    "        output.clear_output()  # Efface le contenu précédent\n",
    "        selected_file_index = int(file_selector_dropdown.value.split(\" \")[1]) - 1\n",
    "        if selected_file_index < 0 or selected_file_index >= len(all_files):\n",
    "            print(\"Fichier sélectionné invalide.\")\n",
    "            return\n",
    "\n",
    "        # Charger les données du fichier sélectionné\n",
    "        fichier_selectionne = all_files[selected_file_index]\n",
    "        data = pd.read_csv(fichier_selectionne)\n",
    "\n",
    "        # Prétraitement des données\n",
    "        data_scaled = scaler.fit_transform(data[features])\n",
    "        data_scaled = pd.DataFrame(data_scaled, columns=features)\n",
    "        # Utilisation du modèle IsolationForest pour détecter les anomalies\n",
    "        isolation_forest = IsolationForest(contamination=0.005, random_state=42)\n",
    "        data_scaled[\"anomaly\"] = isolation_forest.fit_predict(data_scaled[features])\n",
    "\n",
    "        # Générer le graphique\n",
    "        fig, ax = plt.subplots(figsize=(15, 5))\n",
    "        for feature in features:\n",
    "            ax.plot(data_scaled.index, data_scaled[feature], label=feature)\n",
    "\n",
    "        # Ajouter une zone rouge pâle pour les anomalies\n",
    "        anomalies_indices = data_scaled[data_scaled[\"anomaly\"] == -1].index\n",
    "        for start, end in zip(anomalies_indices[:-1], anomalies_indices[1:]):\n",
    "            if (\n",
    "                end - start > 1\n",
    "            ):  # Si les indices ne sont pas consécutifs, démarrez une nouvelle zone\n",
    "                ax.axvspan(start, end, color=\"red\", alpha=0.2)\n",
    "\n",
    "        ax.set_xlabel(\"Index\")\n",
    "        ax.set_ylabel(\"Valeurs des capteurs\")\n",
    "        ax.legend()\n",
    "        ax.set_title(f\"Visualisation des anomalies pour {file_selector_dropdown.value}\")\n",
    "        plt.show()\n",
    "\n",
    "\n",
    "# Associer la fonction au widget\n",
    "file_selector_dropdown.observe(afficher_donnees_par_fichier, names=\"value\")\n",
    "\n",
    "# Affichage des widgets\n",
    "display(VBox([file_selector_dropdown, output]))\n"
   ]
  },
  {
   "cell_type": "code",
   "execution_count": 11,
   "metadata": {},
   "outputs": [
    {
     "name": "stdout",
     "output_type": "stream",
     "text": [
      "Résultats sauvegardés dans ./anomalies_detected.csv\n"
     ]
    }
   ],
   "source": [
    "# Sauvegarde des résultats avec les anomalies détectées\n",
    "output_path = \"./anomalies_detected.csv\"\n",
    "data_scaled.to_csv(output_path, index=False)\n",
    "print(f\"Résultats sauvegardés dans {output_path}\")"
   ]
  }
 ],
 "metadata": {
  "kernelspec": {
   "display_name": "base",
   "language": "python",
   "name": "python3"
  },
  "language_info": {
   "codemirror_mode": {
    "name": "ipython",
    "version": 3
   },
   "file_extension": ".py",
   "mimetype": "text/x-python",
   "name": "python",
   "nbconvert_exporter": "python",
   "pygments_lexer": "ipython3",
   "version": "3.12.2"
  }
 },
 "nbformat": 4,
 "nbformat_minor": 2
}
