{
 "cells": [
  {
   "cell_type": "markdown",
   "id": "43b06a28",
   "metadata": {},
   "source": [
    "# Notebook universel pour l'entraînement et l'utilisation de modèles IA\n",
    "\n",
    "Modifiez simplement l'import du modèle pour entraîner ou utiliser un autre type de modèle (CNN, LSTM, GRU, TCN, etc.)."
   ]
  },
  {
   "cell_type": "code",
   "execution_count": null,
   "id": "8786093d",
   "metadata": {},
   "outputs": [],
   "source": [
    "import os\n",
    "import pandas as pd\n",
    "import numpy as np\n",
    "from sklearn.metrics import (\n",
    "    classification_report,\n",
    "    confusion_matrix,\n",
    "    ConfusionMatrixDisplay,\n",
    ")\n",
    "from sklearn.preprocessing import LabelEncoder, StandardScaler\n",
    "import matplotlib.pyplot as plt\n",
    "from sklearn.model_selection import train_test_split\n",
    "from tensorflow.keras.utils import to_categorical\n",
    "\n",
    "from Models.cnn_model import CNNModel as SelectedModel\n",
    "# from Models.lstm_model import LSTMModel as SelectedModel\n",
    "# from Models.gru_model import GRUModel as SelectedModel\n",
    "# from Models.tcn_model import TCNModel as SelectedModel\n",
    "# from Models.tft_model import TFTModel as SelectedModel # Probleme d'import avec TFT\n",
    "# from Models.inception_time_model import InceptionTimeModel as SelectedModel # Probleme d'import avec TSAI\n",
    "# from Models.iterative_knn_model import IterativeKNNModel as SelectedModel\n",
    "\n",
    "\n",
    "def load_dataset(base_path):\n",
    "    all_data = []\n",
    "    labels = []\n",
    "    for label_name in [\"Normal\", \"Accident\"]:\n",
    "        folder_path = os.path.join(base_path, label_name)\n",
    "        if not os.path.exists(folder_path):\n",
    "            continue\n",
    "        for file_name in os.listdir(folder_path):\n",
    "            if file_name.endswith(\".csv\"):\n",
    "                file_path = os.path.join(folder_path, file_name)\n",
    "                df = pd.read_csv(file_path)\n",
    "                if not all(col in df.columns for col in [\"ACCX\", \"ACCY\", \"ACCZ\"]):\n",
    "                    continue\n",
    "                if any(len(df[col]) < 2 for col in [\"ACCX\", \"ACCY\", \"ACCZ\"]):\n",
    "                    continue\n",
    "                features = []\n",
    "                for col in [\"ACCX\", \"ACCY\", \"ACCZ\"]:\n",
    "                    signal = df[col].values\n",
    "                    features.extend(\n",
    "                        [\n",
    "                            signal,\n",
    "                            np.gradient(signal),\n",
    "                            np.gradient(np.gradient(signal)),\n",
    "                        ]\n",
    "                    )\n",
    "                features = np.array(features).flatten()\n",
    "                all_data.append(features)\n",
    "                labels.append(label_name)\n",
    "    return all_data, labels\n",
    "\n",
    "\n",
    "def pad_sequences(data, max_len=None):\n",
    "    if max_len is None:\n",
    "        max_len = max(len(seq) for seq in data)\n",
    "    padded_data = [np.pad(seq, (0, max_len - len(seq)), \"constant\") for seq in data]\n",
    "    return np.array(padded_data)"
   ]
  },
  {
   "cell_type": "markdown",
   "id": "ba81fec8",
   "metadata": {},
   "source": [
    "## Entraînement du modèle sélectionné"
   ]
  },
  {
   "cell_type": "code",
   "execution_count": 2,
   "id": "1ab604a8",
   "metadata": {},
   "outputs": [
    {
     "name": "stdout",
     "output_type": "stream",
     "text": [
      "Epoch 1/5\n"
     ]
    },
    {
     "name": "stderr",
     "output_type": "stream",
     "text": [
      "/Users/rdb_samy/miniconda3/lib/python3.12/site-packages/keras/src/layers/convolutional/base_conv.py:107: UserWarning: Do not pass an `input_shape`/`input_dim` argument to a layer. When using Sequential models, prefer using an `Input(shape)` object as the first layer in the model instead.\n",
      "  super().__init__(activity_regularizer=activity_regularizer, **kwargs)\n"
     ]
    },
    {
     "name": "stdout",
     "output_type": "stream",
     "text": [
      "\u001b[1m400/400\u001b[0m \u001b[32m━━━━━━━━━━━━━━━━━━━━\u001b[0m\u001b[37m\u001b[0m \u001b[1m38s\u001b[0m 91ms/step - accuracy: 0.7597 - loss: 0.7303 - val_accuracy: 0.5411 - val_loss: 1.3172 - learning_rate: 0.0010\n",
      "Epoch 2/5\n",
      "\u001b[1m400/400\u001b[0m \u001b[32m━━━━━━━━━━━━━━━━━━━━\u001b[0m\u001b[37m\u001b[0m \u001b[1m40s\u001b[0m 99ms/step - accuracy: 0.8174 - loss: 0.4692 - val_accuracy: 0.9501 - val_loss: 0.2736 - learning_rate: 0.0010\n",
      "Epoch 3/5\n",
      "\u001b[1m400/400\u001b[0m \u001b[32m━━━━━━━━━━━━━━━━━━━━\u001b[0m\u001b[37m\u001b[0m \u001b[1m37s\u001b[0m 92ms/step - accuracy: 0.8394 - loss: 0.4027 - val_accuracy: 0.6933 - val_loss: 0.5328 - learning_rate: 0.0010\n",
      "Epoch 4/5\n",
      "\u001b[1m400/400\u001b[0m \u001b[32m━━━━━━━━━━━━━━━━━━━━\u001b[0m\u001b[37m\u001b[0m \u001b[1m35s\u001b[0m 87ms/step - accuracy: 0.8648 - loss: 0.3935 - val_accuracy: 0.6733 - val_loss: 0.5267 - learning_rate: 0.0010\n",
      "Epoch 5/5\n",
      "\u001b[1m400/400\u001b[0m \u001b[32m━━━━━━━━━━━━━━━━━━━━\u001b[0m\u001b[37m\u001b[0m \u001b[1m35s\u001b[0m 87ms/step - accuracy: 0.8975 - loss: 0.3294 - val_accuracy: 0.5761 - val_loss: 0.6726 - learning_rate: 0.0010\n",
      "Test Accuracy: 0.93\n",
      "              precision    recall  f1-score   support\n",
      "\n",
      "    Accident       0.96      0.91      0.93       250\n",
      "      Normal       0.91      0.96      0.94       251\n",
      "\n",
      "    accuracy                           0.93       501\n",
      "   macro avg       0.94      0.93      0.93       501\n",
      "weighted avg       0.94      0.93      0.93       501\n",
      "\n"
     ]
    },
    {
     "data": {
      "image/png": "[encoded data removed]",
      "text/plain": [
       "<Figure size 640x480 with 2 Axes>"
      ]
     },
     "metadata": {},
     "output_type": "display_data"
    },
    {
     "name": "stderr",
     "output_type": "stream",
     "text": [
      "WARNING:absl:You are saving your model as an HDF5 file via `model.save()` or `keras.saving.save_model(model)`. This file format is considered legacy. We recommend using instead the native Keras format, e.g. `model.save('my_model.keras')` or `keras.saving.save_model(model, 'my_model.keras')`. \n"
     ]
    },
    {
     "name": "stdout",
     "output_type": "stream",
     "text": [
      "Modèle sauvegardé sous 'Models/model_cnnmodel.h5'.\n"
     ]
    }
   ],
   "source": [
    "from collections import defaultdict\n",
    "\n",
    "base_path = \".\"\n",
    "X_raw, y_raw = load_dataset(base_path)\n",
    "\n",
    "indices_by_class = defaultdict(list)\n",
    "for idx, label in enumerate(y_raw):\n",
    "    indices_by_class[label].append(idx)\n",
    "min_count = min(len(idxs) for idxs in indices_by_class.values())\n",
    "balanced_indices = []\n",
    "for label, indices in indices_by_class.items():\n",
    "    balanced_indices.extend(indices[:min_count])\n",
    "\n",
    "X_raw = [X_raw[i] for i in balanced_indices]\n",
    "y_raw = [y_raw[i] for i in balanced_indices]\n",
    "\n",
    "X = pad_sequences(X_raw)\n",
    "scaler = StandardScaler()\n",
    "X = scaler.fit_transform(X)\n",
    "X = np.expand_dims(X, axis=-1)\n",
    "le = LabelEncoder()\n",
    "y = le.fit_transform(y_raw)\n",
    "y = to_categorical(y)\n",
    "X_train, X_test, y_train, y_test = train_test_split(\n",
    "    X, y, test_size=0.2, random_state=42, stratify=y\n",
    ")\n",
    "\n",
    "model = SelectedModel(input_shape=(X.shape[1], 1), num_classes=2)\n",
    "model.build()\n",
    "history = model.train(X_train, y_train, X_val=None, y_val=None)\n",
    "\n",
    "loss, accuracy = model.evaluate(X_test, y_test)\n",
    "print(f\"Test Accuracy: {accuracy:.2f}\")\n",
    "\n",
    "y_pred = model.predict(X_test)\n",
    "y_pred_classes = np.argmax(y_pred, axis=1)\n",
    "y_test_classes = np.argmax(y_test, axis=1)\n",
    "print(classification_report(y_test_classes, y_pred_classes, target_names=le.classes_))\n",
    "\n",
    "cm = confusion_matrix(y_test_classes, y_pred_classes)\n",
    "disp = ConfusionMatrixDisplay(confusion_matrix=cm, display_labels=le.classes_)\n",
    "disp.plot(cmap=plt.cm.Blues)\n",
    "plt.title(\"Matrice de Confusion\")\n",
    "plt.show()\n",
    "\n",
    "model.save(f\"Models/model_{SelectedModel.__name__.lower()}.h5\")\n",
    "print(f\"Modèle sauvegardé sous 'Models/model_{SelectedModel.__name__.lower()}.h5'.\")"
   ]
  },
  {
   "cell_type": "markdown",
   "id": "419370f0",
   "metadata": {},
   "source": [
    "## Utilisation du modèle sélectionné pour la classification de fichiers individuels"
   ]
  },
  {
   "cell_type": "code",
   "execution_count": 3,
   "id": "17899d28",
   "metadata": {},
   "outputs": [
    {
     "name": "stderr",
     "output_type": "stream",
     "text": [
      "WARNING:absl:Compiled the loaded model, but the compiled metrics have yet to be built. `model.compile_metrics` will be empty until you train or evaluate the model.\n"
     ]
    }
   ],
   "source": [
    "model = SelectedModel(input_shape=None, num_classes=2)\n",
    "model.load(f\"Models/model_{SelectedModel.__name__.lower()}.h5\")\n"
   ]
  },
  {
   "cell_type": "code",
   "execution_count": 4,
   "id": "51cec9d5",
   "metadata": {},
   "outputs": [],
   "source": [
    "from ipywidgets import Dropdown, VBox, Output\n",
    "\n",
    "output = Output()\n",
    "raw_data_path = \"./Raw_Data\"\n",
    "all_files = [\n",
    "    os.path.join(raw_data_path, f)\n",
    "    for f in os.listdir(raw_data_path)\n",
    "    if f.endswith(\".csv\")\n",
    "]\n",
    "\n",
    "file_selector_dropdown = Dropdown(\n",
    "    options=[os.path.basename(f) for f in all_files],\n",
    "    value=os.path.basename(all_files[0]) if all_files else None,\n",
    "    description=\"Fichier:\",\n",
    ")"
   ]
  },
  {
   "cell_type": "code",
   "execution_count": 11,
   "id": "6b948b8e",
   "metadata": {},
   "outputs": [],
   "source": [
    "def afficher_classification_par_fichier(change):\n",
    "    with output:\n",
    "        output.clear_output()\n",
    "        selected_file = file_selector_dropdown.value\n",
    "        if not selected_file:\n",
    "            print(\"Aucun fichier sélectionné.\")\n",
    "            return\n",
    "\n",
    "        fichier_selectionne = os.path.join(raw_data_path, selected_file)\n",
    "        try:\n",
    "            data = pd.read_csv(fichier_selectionne)\n",
    "        except Exception as e:\n",
    "            print(f\"Erreur lors du chargement du fichier {selected_file}: {e}\")\n",
    "            return\n",
    "\n",
    "        features = [\"ACCX\", \"ACCY\", \"ACCZ\"]\n",
    "        if not all(feature in data.columns for feature in features):\n",
    "            print(f\"Colonnes {features} manquantes dans le fichier {selected_file}.\")\n",
    "            return\n",
    "        if data.empty:\n",
    "            print(f\"Le fichier {selected_file} est vide.\")\n",
    "            return\n",
    "\n",
    "        plt.figure(figsize=(12, 6))\n",
    "        for feature in features:\n",
    "            plt.plot(data.index, data[feature], label=feature)\n",
    "        plt.xlabel(\"Index\")\n",
    "        plt.ylabel(\"Valeurs des capteurs\")\n",
    "        plt.title(f\"Données et Classification pour {selected_file}\")\n",
    "        plt.grid(True)\n",
    "\n",
    "        window_size = 100\n",
    "        overlap = 50\n",
    "        max_len = model.get_input_length()\n",
    "        predictions_for_chunks = []\n",
    "\n",
    "        class_names = [\"Accident\", \"Normal\"]\n",
    "        colors = {\"Normal\": \"blue\", \"Accident\": \"red\", \"Non-classifié\": \"gray\"}\n",
    "\n",
    "        all_features = []\n",
    "        for feature in features:\n",
    "            signal = data[feature].values\n",
    "            all_features.extend(\n",
    "                [signal, np.gradient(signal), np.gradient(np.gradient(signal))]\n",
    "            )\n",
    "        all_features = np.array(all_features).flatten()\n",
    "        global_mean = np.mean(all_features)\n",
    "        global_std = np.std(all_features)\n",
    "\n",
    "        print(f\"Analyse avec fenêtre glissante de {window_size} points:\")\n",
    "\n",
    "        for start in range(0, len(data) - window_size + 1, overlap):\n",
    "            end = start + window_size\n",
    "            data_chunk = data.iloc[start:end]\n",
    "\n",
    "            chunk_features = []\n",
    "            for feature in features:\n",
    "                signal = data_chunk[feature].values\n",
    "                chunk_features.extend(\n",
    "                    [signal, np.gradient(signal), np.gradient(np.gradient(signal))]\n",
    "                )\n",
    "            chunk_features = np.array(chunk_features).flatten()\n",
    "\n",
    "            chunk_features = (chunk_features - global_mean) / global_std\n",
    "\n",
    "            if len(chunk_features) >= max_len:\n",
    "                padded_chunk = chunk_features[:max_len]\n",
    "            else:\n",
    "                padded_chunk = np.pad(\n",
    "                    chunk_features, (0, max_len - len(chunk_features)), \"constant\"\n",
    "                )\n",
    "\n",
    "            model_input = np.expand_dims(padded_chunk, axis=(0, -1))\n",
    "\n",
    "            try:\n",
    "                prediction = model.predict(model_input)\n",
    "                confidence = np.max(prediction)\n",
    "                predicted_class_index = np.argmax(prediction, axis=1)[0]\n",
    "\n",
    "                if confidence > 0.80:\n",
    "                    predicted_class_name = class_names[predicted_class_index]\n",
    "\n",
    "                    if len(predictions_for_chunks) > 0:\n",
    "                        last_pred = predictions_for_chunks[-1][2]\n",
    "                        if (\n",
    "                            last_pred != \"Non-classifié\"\n",
    "                            and last_pred != predicted_class_name\n",
    "                        ):\n",
    "                            if confidence < 0.90:\n",
    "                                predicted_class_name = \"Non-classifié\"\n",
    "                else:\n",
    "                    predicted_class_name = \"Non-classifié\"\n",
    "\n",
    "                predictions_for_chunks.append((start, end, predicted_class_name))\n",
    "            except Exception as e:\n",
    "                print(f\"  Segment {start}-{end}: Erreur de prédiction: {e}\")\n",
    "                predictions_for_chunks.append((start, end, \"Non-classifié\"))\n",
    "\n",
    "        current_class = \"Non-classifié\"\n",
    "        current_start = 0\n",
    "\n",
    "        for i, (start, end, predicted_class) in enumerate(predictions_for_chunks):\n",
    "            if predicted_class != current_class:\n",
    "                if current_class != \"Non-classifié\":\n",
    "                    plt.axvspan(\n",
    "                        current_start,\n",
    "                        start,\n",
    "                        color=colors[current_class],\n",
    "                        alpha=0.3,\n",
    "                        label=f\"_{current_class}_\",\n",
    "                    )\n",
    "                current_class = predicted_class\n",
    "                current_start = start\n",
    "\n",
    "        if current_class != \"Non-classifié\":\n",
    "            plt.axvspan(\n",
    "                current_start,\n",
    "                len(data),\n",
    "                color=colors[current_class],\n",
    "                alpha=0.3,\n",
    "                label=f\"_{current_class}_\",\n",
    "            )\n",
    "\n",
    "        handles = [\n",
    "            plt.Rectangle((0, 0), 1, 1, fc=color, alpha=0.3)\n",
    "            for color in [colors[\"Normal\"], colors[\"Accident\"]]\n",
    "        ]\n",
    "        labels = [\"Normal\", \"Accident\"]\n",
    "\n",
    "        handles.extend(\n",
    "            [\n",
    "                plt.Line2D([0], [0], color=\"blue\", label=\"ACCX\"),\n",
    "                plt.Line2D([0], [0], color=\"orange\", label=\"ACCY\"),\n",
    "                plt.Line2D([0], [0], color=\"green\", label=\"ACCZ\"),\n",
    "            ]\n",
    "        )\n",
    "        labels.extend([\"ACCX\", \"ACCY\", \"ACCZ\"])\n",
    "\n",
    "        plt.legend(handles=handles, labels=labels)\n",
    "        plt.show()"
   ]
  },
  {
   "cell_type": "code",
   "execution_count": 12,
   "id": "8650de99",
   "metadata": {},
   "outputs": [
    {
     "data": {
      "application/vnd.jupyter.widget-view+json": {
       "model_id": "102e9b9005544c8b9f323d2b80712ca0",
       "version_major": 2,
       "version_minor": 0
      },
      "text/plain": [
       "VBox(children=(Dropdown(description='Fichier:', index=131, options=('Aytbu9t.FIwSNbrM_e-Bike_ACC-MAG-GYR_20240…"
      ]
     },
     "metadata": {},
     "output_type": "display_data"
    }
   ],
   "source": [
    "file_selector_dropdown.observe(afficher_classification_par_fichier, names=\"value\")\n",
    "display(VBox([file_selector_dropdown, output]))"
   ]
  }
 ],
 "metadata": {
  "kernelspec": {
   "display_name": "base",
   "language": "python",
   "name": "python3"
  },
  "language_info": {
   "codemirror_mode": {
    "name": "ipython",
    "version": 3
   },
   "file_extension": ".py",
   "mimetype": "text/x-python",
   "name": "python",
   "nbconvert_exporter": "python",
   "pygments_lexer": "ipython3",
   "version": "3.12.2"
  }
 },
 "nbformat": 4,
 "nbformat_minor": 5
}
